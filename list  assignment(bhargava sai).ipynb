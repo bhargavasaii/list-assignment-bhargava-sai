{
 "cells": [
  {
   "cell_type": "markdown",
   "id": "2d10cd2a",
   "metadata": {},
   "source": [
    "# 1. Write a Python program to sum all the items and multiply all the items"
   ]
  },
  {
   "cell_type": "code",
   "execution_count": 1,
   "id": "ae2ebb8c",
   "metadata": {},
   "outputs": [
    {
     "name": "stdout",
     "output_type": "stream",
     "text": [
      "15 120\n"
     ]
    }
   ],
   "source": [
    "def list(l):\n",
    "    sum =0\n",
    "    mul =1\n",
    "    for i in l:\n",
    "        sum=sum+i\n",
    "        mul=mul*i\n",
    "    print(sum,mul)\n",
    "    \n",
    "list([1,2,3,4,5])\n",
    "    "
   ]
  },
  {
   "cell_type": "markdown",
   "id": "bb8149f7",
   "metadata": {},
   "source": [
    "# 2. Write a Python function that takes two lists and returns True if they have at least one common\n"
   ]
  },
  {
   "cell_type": "code",
   "execution_count": 2,
   "id": "9cf24818",
   "metadata": {},
   "outputs": [
    {
     "data": {
      "text/plain": [
       "True"
      ]
     },
     "execution_count": 2,
     "metadata": {},
     "output_type": "execute_result"
    }
   ],
   "source": [
    "def lists(a,b):\n",
    "    for i in a:\n",
    "        for j in b:\n",
    "            if i==j:\n",
    "                return True\n",
    "            else:\n",
    "                pass\n",
    "            \n",
    "lists([1,2,3,4,5],[5,6,7,8,9])"
   ]
  },
  {
   "cell_type": "markdown",
   "id": "f3ff2eaa",
   "metadata": {},
   "source": [
    "# 3. Write a Python program to compute the difference between two lists.\n"
   ]
  },
  {
   "cell_type": "code",
   "execution_count": 5,
   "id": "48e30040",
   "metadata": {},
   "outputs": [],
   "source": [
    "colour1 = [\"red\", \"orange\", \"green\", \"blue\", \"white\"]\n",
    "colour2 =  [\"black\", \"yellow\", \"green\", \"blue\"] \n",
    "a = set(colour1)\n",
    "b= set(colour2)\n",
    "diff_12=a-b\n",
    "diff_21=b-a"
   ]
  },
  {
   "cell_type": "code",
   "execution_count": 6,
   "id": "cdfa0159",
   "metadata": {},
   "outputs": [
    {
     "data": {
      "text/plain": [
       "{'orange', 'red', 'white'}"
      ]
     },
     "execution_count": 6,
     "metadata": {},
     "output_type": "execute_result"
    }
   ],
   "source": [
    "diff_12"
   ]
  },
  {
   "cell_type": "code",
   "execution_count": 7,
   "id": "7e473752",
   "metadata": {},
   "outputs": [
    {
     "data": {
      "text/plain": [
       "{'black', 'yellow'}"
      ]
     },
     "execution_count": 7,
     "metadata": {},
     "output_type": "execute_result"
    }
   ],
   "source": [
    "diff_21"
   ]
  },
  {
   "cell_type": "code",
   "execution_count": null,
   "id": "a583962f",
   "metadata": {},
   "outputs": [],
   "source": []
  }
 ],
 "metadata": {
  "kernelspec": {
   "display_name": "Python 3 (ipykernel)",
   "language": "python",
   "name": "python3"
  },
  "language_info": {
   "codemirror_mode": {
    "name": "ipython",
    "version": 3
   },
   "file_extension": ".py",
   "mimetype": "text/x-python",
   "name": "python",
   "nbconvert_exporter": "python",
   "pygments_lexer": "ipython3",
   "version": "3.9.13"
  }
 },
 "nbformat": 4,
 "nbformat_minor": 5
}
